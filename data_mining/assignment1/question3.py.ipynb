{
 "cells": [
  {
   "cell_type": "code",
   "execution_count": 39,
   "metadata": {},
   "outputs": [],
   "source": [
    "'''\n",
    "Name: Aditya Sawwalakhe\n",
    "B Number: B00816689\n",
    "'''\n",
    "\n",
    "''' Importing required libraries for the program '''\n",
    "\n",
    "'''Using the same function from the question2.py, addtionally i have \n",
    "added the comparision metrics of both methods for both datasets'''\n",
    "\n",
    "from sklearn import preprocessing\n",
    "from matplotlib.ticker import ScalarFormatter, FormatStrFormatter\n",
    "import numpy as np\n",
    "import matplotlib.pyplot as plt\n",
    "import pandas as pd\n",
    "from sklearn.decomposition import PCA\n",
    "\n",
    "\n",
    "'''loading the dataset files from folder and preprocessing the dataset by removing the NA values'''\n",
    "df_1 = pd.read_csv('dist1_500_1.txt', sep=\" \").dropna()\n",
    "df_2 = pd.read_csv('dist1_500_2.txt', sep=\" \").dropna()\n",
    "df_3 = pd.read_csv('dist2_500_1.txt', sep=\" \").dropna()\n",
    "df_4 = pd.read_csv('dist2_500_2.txt', sep=\" \").dropna()\n",
    "\n",
    "'''Concatatening the files to form one dataframe per dataset'''\n",
    "df1 = pd.concat([df_1, df_2])\n",
    "df2 = pd.concat([df_3, df_4])\n",
    "\n",
    "'''Defining a function for the applying the PCA algorithm on dataset'''\n",
    "def applyPCA(df,thershold1):\n",
    "    '''\n",
    "    this function takes a df(dataset), thershold(how much information is to be retain) and color of graph as a input\n",
    "    '''\n",
    "\n",
    "    '''Now calling the PCA method'''\n",
    "    pca = PCA()\n",
    "    pca.fit(df)\n",
    "\n",
    "\n",
    "    '''Calculating the number of componenets given the thershold (required information retain)'''\n",
    "    def CalCulateNumberOfComponent(eigen_values,thershold):\n",
    "        sum_of_all_eigen_value = sum(eigen_values)\n",
    "        for i in range(1, len(eigen_values)+1):\n",
    "            if((sum(eigen_values[:i])/sum_of_all_eigen_value) >= thershold):\n",
    "                return i\n",
    "\n",
    "\n",
    "    EigenValues = pca.explained_variance_\n",
    "    K = CalCulateNumberOfComponent(EigenValues,thershold1)\n",
    "    return [K, thershold1]\n",
    "\n",
    "\n",
    "\n",
    "\n",
    "''' Importing required libraries for the program '''\n",
    "from numpy import diff\n",
    "from scipy.fftpack import dct\n",
    "from sklearn.cluster import KMeans\n",
    "from itertools import groupby\n",
    "        \n",
    "def applyingDCT(df, color):\n",
    "    ''' Applying the dct for each vector (each row) for input dataframe(dataset) '''\n",
    "\n",
    "    dct_array = []\n",
    "    for i in df.to_numpy():\n",
    "        dct_array.append(dct(i, type=2))\n",
    "    \n",
    "    def doubleDerivative(vector):\n",
    "        x = np.arange(1, 100)\n",
    "        firstOrderDerivative = diff(vector)/x\n",
    "        secondOrderDerivative =  diff(firstOrderDerivative)/diff(x)\n",
    "        for i in secondOrderDerivative:\n",
    "            if(i < 0):\n",
    "                return np.where(secondOrderDerivative == i)[0][0]\n",
    "\n",
    "    list_of_no_components_for_each_value = [] #this list is to store the critical point for each of the vector \n",
    "    for i in dct_array:\n",
    "        list_of_no_components_for_each_value.append(doubleDerivative(i))\n",
    "\n",
    "    list_of_no_components_for_each_value.sort()\n",
    "\n",
    "    kmeans = KMeans(n_clusters=2)  \n",
    "    X = np.array(list_of_no_components_for_each_value).reshape(-1,1)\n",
    "    kmeans.fit(X)\n",
    "    y_kmeans = kmeans.predict(X)\n",
    "    \n",
    "    plt.scatter(X[:, -1], X[:, 0], c=y_kmeans, s=20)\n",
    "    centers = kmeans.cluster_centers_\n",
    "    print centers\n",
    "    plt.scatter(centers[:, -1], centers[:, 0], c=color, s=200, alpha=0.5)\n",
    "    plt.show()\n",
    "    '''Only taking four componenets from the array as fifth component can be seens as outlier(too far from both centers)'''\n",
    "    return \n",
    "\n"
   ]
  },
  {
   "cell_type": "code",
   "execution_count": 40,
   "metadata": {},
   "outputs": [
    {
     "name": "stdout",
     "output_type": "stream",
     "text": [
      "for dataset 1 : \n",
      " Number of components  therhsold\n",
      "                    1       0.40\n",
      "                    5       0.45\n",
      "                   10       0.50\n",
      "                   16       0.55\n",
      "                   21       0.60\n",
      "                   28       0.65\n",
      "                   34       0.70\n",
      "                   42       0.75\n",
      "                   50       0.80\n",
      "                   60       0.85\n",
      "                   71       0.90\n",
      "                   83       0.95\n",
      "                  100       1.00\n",
      "for dataset 2 : \n",
      " Number of components  therhsold\n",
      "                    1       0.40\n",
      "                    1       0.45\n",
      "                    2       0.50\n",
      "                    8       0.55\n",
      "                   15       0.60\n",
      "                   22       0.65\n",
      "                   30       0.70\n",
      "                   38       0.75\n",
      "                   47       0.80\n",
      "                   58       0.85\n",
      "                   69       0.90\n",
      "                   83       0.95\n",
      "                  100       1.00\n",
      "[[1.        ]\n",
      " [2.30655391]]\n"
     ]
    },
    {
     "data": {
      "image/png": "[encoded data removed]",
      "text/plain": [
       "<Figure size 432x288 with 1 Axes>"
      ]
     },
     "metadata": {},
     "output_type": "display_data"
    },
    {
     "name": "stdout",
     "output_type": "stream",
     "text": [
      "[[2.32854209]\n",
      " [1.        ]]\n"
     ]
    },
    {
     "data": {
      "image/png": "[encoded data removed]",
      "text/plain": [
       "<Figure size 432x288 with 1 Axes>"
      ]
     },
     "metadata": {},
     "output_type": "display_data"
    }
   ],
   "source": [
    "'''Now comparing two feature extraction methods for both dataset '''\n",
    "thersholdx = np.arange(0.4, 1.05,0.05)\n",
    "list1 = []\n",
    "list2 = []\n",
    "for i in thersholdx:\n",
    "    list1.append(applyPCA(df1,i))\n",
    "    list2.append(applyPCA(df2,i))\n",
    "\n",
    "columns = [\"Number of components\", \"therhsold\"]    \n",
    "table1 = pd.DataFrame(list1, columns = columns)\n",
    "table2 = pd.DataFrame(list2, columns = columns)\n",
    "print \"for dataset 1 : \\n\", table1.to_string(index=False)\n",
    "print \"for dataset 2 : \\n\", table2.to_string(index=False)\n",
    "applyingDCT(df1, \"blue\")\n",
    "applyingDCT(df2, \"red\")\n"
   ]
  },
  {
   "cell_type": "code",
   "execution_count": null,
   "metadata": {},
   "outputs": [],
   "source": []
  }
 ],
 "metadata": {
  "kernelspec": {
   "display_name": "Python 2",
   "language": "python",
   "name": "python2"
  },
  "language_info": {
   "codemirror_mode": {
    "name": "ipython",
    "version": 2
   },
   "file_extension": ".py",
   "mimetype": "text/x-python",
   "name": "python",
   "nbconvert_exporter": "python",
   "pygments_lexer": "ipython2",
   "version": "2.7.15+"
  }
 },
 "nbformat": 4,
 "nbformat_minor": 2
}
